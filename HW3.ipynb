{
  "nbformat": 4,
  "nbformat_minor": 0,
  "metadata": {
    "colab": {
      "provenance": []
    },
    "kernelspec": {
      "name": "python3",
      "display_name": "Python 3"
    },
    "language_info": {
      "name": "python"
    }
  },
  "cells": [
    {
      "cell_type": "markdown",
      "source": [
        "**Part 1**"
      ],
      "metadata": {
        "id": "D-P_fCVJQh-U"
      }
    },
    {
      "cell_type": "markdown",
      "source": [
        "For this homework I will be using the Top 10,000 companies data set. This dataset contains information on 10,000 different companies sourced from Ambition Box, a platform that provides insights into company reviews, ratings, salaries, interviews, and more.\n",
        "\n",
        "Link to the data set can be found [here](https://www.kaggle.com/datasets/vedantkhapekar/top-10000-companies-dataset)"
      ],
      "metadata": {
        "id": "iqZCfOktQtEt"
      }
    },
    {
      "cell_type": "markdown",
      "source": [
        "Begin by cleaning and getting insights on the data."
      ],
      "metadata": {
        "id": "b0mOO1mbRDom"
      }
    },
    {
      "cell_type": "code",
      "source": [
        "import numpy as np\n",
        "import pandas as pd\n",
        "from sklearn.model_selection import train_test_split\n",
        "from sklearn.preprocessing import StandardScaler, LabelEncoder\n",
        "\n",
        "# Load dataset\n",
        "df = pd.read_csv(\"companies.csv\")\n",
        "\n",
        "# Data Preprocessing\n",
        "df = df.replace('--', np.nan)  # Replace '--' with NaN\n",
        "df = df.dropna()  # Remove missing values\n",
        "\n",
        "# Function to convert string numbers with 'k' into numeric values\n",
        "def convert_k_to_number(value):\n",
        "    if isinstance(value, str):\n",
        "        value = value.replace(',', '')  # Remove commas\n",
        "        if 'k' in value:\n",
        "            return float(value.replace('k', '')) * 1000  # Convert 'k' to thousand\n",
        "        try:\n",
        "            return float(value)\n",
        "        except ValueError:\n",
        "            return None  # Return None if conversion fails\n",
        "    return value\n",
        "\n",
        "# Apply conversion to relevant columns\n",
        "numeric_columns = [\"Total_reviews\", \"Avg_salary\", \"Interviews_taken\", \"Total_jobs_available\", \"Total_benefits\"]\n",
        "for col in numeric_columns:\n",
        "    df[col] = df[col].apply(convert_k_to_number).astype('Int64', errors='ignore')\n",
        "\n",
        "# Fill missing values in categorical columns with \"Not Available\"\n",
        "df[\"Highly_rated_for\"] = df[\"Highly_rated_for\"].fillna(\"Not Available\")\n",
        "df[\"Critically_rated_for\"] = df[\"Critically_rated_for\"].fillna(\"Not Available\")\n",
        "\n",
        "# Standardize column names (lowercase and replace spaces with underscores)\n",
        "df.columns = df.columns.str.lower().str.replace(\" \", \"_\")\n",
        "\n",
        "# Show cleaned data summary\n",
        "df.info(), df.head()\n",
        "\n",
        "# Select features and target\n",
        "X = df[['ratings', 'total_reviews', 'avg_salary', 'interviews_taken', 'total_jobs_available']]\n",
        "y = (df['ratings'] >= 4.0).astype(int).values  # Binary classification: 1 for high-rated, 0 for low-rated\n",
        "\n",
        "# Normalize features\n",
        "scaler = StandardScaler()\n",
        "X = scaler.fit_transform(X)\n",
        "\n",
        "# Split data\n",
        "X_train, X_test, y_train, y_test = train_test_split(X, y, test_size=0.2, random_state=42)\n"
      ],
      "metadata": {
        "colab": {
          "base_uri": "https://localhost:8080/"
        },
        "id": "ck_zxn9BRC5g",
        "outputId": "a9422667-0468-4774-c36f-996ec8239c18"
      },
      "execution_count": null,
      "outputs": [
        {
          "output_type": "stream",
          "name": "stdout",
          "text": [
            "<class 'pandas.core.frame.DataFrame'>\n",
            "Index: 1560 entries, 0 to 9958\n",
            "Data columns (total 10 columns):\n",
            " #   Column                Non-Null Count  Dtype  \n",
            "---  ------                --------------  -----  \n",
            " 0   company_name          1560 non-null   object \n",
            " 1   description           1560 non-null   object \n",
            " 2   ratings               1560 non-null   float64\n",
            " 3   highly_rated_for      1560 non-null   object \n",
            " 4   critically_rated_for  1560 non-null   object \n",
            " 5   total_reviews         1560 non-null   Int64  \n",
            " 6   avg_salary            1560 non-null   float64\n",
            " 7   interviews_taken      1560 non-null   Int64  \n",
            " 8   total_jobs_available  1560 non-null   Int64  \n",
            " 9   total_benefits        1560 non-null   Int64  \n",
            "dtypes: Int64(4), float64(2), object(4)\n",
            "memory usage: 140.2+ KB\n"
          ]
        }
      ]
    },
    {
      "cell_type": "markdown",
      "source": [
        "Now we will implement the Neural Network"
      ],
      "metadata": {
        "id": "A3KdE2FzVWsF"
      }
    },
    {
      "cell_type": "code",
      "execution_count": null,
      "metadata": {
        "id": "sMXaFlu4QguR",
        "colab": {
          "base_uri": "https://localhost:8080/"
        },
        "outputId": "74b20737-e21a-4091-ab8c-7cf276c49b4c"
      },
      "outputs": [
        {
          "output_type": "stream",
          "name": "stdout",
          "text": [
            "Epoch 0, Loss: 0.272138438343226\n",
            "Epoch 100, Loss: 0.05125090691000221\n",
            "Epoch 200, Loss: 0.02919493090547375\n",
            "Epoch 300, Loss: 0.02030023632507917\n",
            "Epoch 400, Loss: 0.015560327857379744\n",
            "Epoch 500, Loss: 0.012493305593737429\n",
            "Epoch 600, Loss: 0.010317245161358964\n",
            "Epoch 700, Loss: 0.008696624597199727\n",
            "Epoch 800, Loss: 0.007451243437520403\n",
            "Epoch 900, Loss: 0.00647139433903425\n",
            "Test Accuracy: 100.00%\n"
          ]
        }
      ],
      "source": [
        "class NeuralNetwork:\n",
        "    def __init__(self, input_size, hidden_size, output_size, learning_rate=0.01, batch_size=32):\n",
        "        self.input_size = input_size\n",
        "        self.hidden_size = hidden_size\n",
        "        self.output_size = output_size\n",
        "        self.learning_rate = learning_rate\n",
        "\n",
        "        # Initialize weights and biases\n",
        "        self.W1 = np.random.randn(input_size, hidden_size)\n",
        "        self.b1 = np.zeros((1, hidden_size))\n",
        "        self.W2 = np.random.randn(hidden_size, output_size)\n",
        "        self.b2 = np.zeros((1, output_size))\n",
        "        self.batch_size = batch_size\n",
        "\n",
        "    def sigmoid(self, z):\n",
        "        return 1 / (1 + np.exp(-z))\n",
        "\n",
        "    def derivative(self, z):\n",
        "        return z * (1 - z)\n",
        "\n",
        "    def forward_propagation(self, X):\n",
        "        self.Z1 = np.dot(X, self.W1) + self.b1\n",
        "        self.A1 = self.sigmoid(self.Z1)\n",
        "        self.Z2 = np.dot(self.A1, self.W2) + self.b2\n",
        "        self.A2 = self.sigmoid(self.Z2)\n",
        "        return self.A2\n",
        "\n",
        "    def backward_propagation(self, X, y, output):\n",
        "        m = X.shape[0]\n",
        "        error = output - y.reshape(-1, 1)\n",
        "        dZ2 = error * self.derivative(output)\n",
        "        dW2 = np.dot(self.A1.T, dZ2) / m\n",
        "        db2 = np.sum(dZ2, axis=0) / m\n",
        "\n",
        "        dZ1 = np.dot(dZ2, self.W2.T) * self.derivative(self.A1)\n",
        "        dW1 = np.dot(X.T, dZ1) / m\n",
        "        db1 = np.sum(dZ1, axis=0) / m\n",
        "\n",
        "        # Update weights and biases\n",
        "        self.W1 -= self.learning_rate * dW1\n",
        "        self.b1 -= self.learning_rate * db1\n",
        "        self.W2 -= self.learning_rate * dW2\n",
        "        self.b2 -= self.learning_rate * db2\n",
        "\n",
        "    def train(self, X, y, epochs=1000):\n",
        "        for epoch in range(epochs):\n",
        "          for i in range(0, X.shape[0], self.batch_size):\n",
        "              X_batch = X[i:i + self.batch_size]\n",
        "              y_batch = y[i:i + self.batch_size]\n",
        "              output = self.forward_propagation(X_batch)\n",
        "              self.backward_propagation(X_batch, y_batch, output)\n",
        "          if epoch % 100 == 0:\n",
        "            loss = self.cost(y, self.forward_propagation(X))\n",
        "            print(f\"Epoch {epoch}, Loss: {loss}\")\n",
        "\n",
        "    def cost(self, y, output):\n",
        "        m = y.shape[0]\n",
        "        return np.sum((y.reshape(-1, 1) - output) ** 2) / (2 * m)\n",
        "\n",
        "    def predict(self, X):\n",
        "        output = self.forward_propagation(X)\n",
        "        return (output > 0.5).astype(int)\n",
        "\n",
        "# Initialize and train the network\n",
        "nn = NeuralNetwork(input_size=5, hidden_size=10, output_size=1, learning_rate=0.01, batch_size=32)\n",
        "nn.train(X_train, y_train, epochs=1000)\n",
        "\n",
        "# Predictions\n",
        "y_pred = nn.predict(X_test)\n",
        "accuracy = np.mean(y_pred.flatten() == y_test)\n",
        "print(f\"Test Accuracy: {accuracy * 100:.2f}%\")"
      ]
    },
    {
      "cell_type": "markdown",
      "source": [
        "Mini-batch Gradient Descent is used to improve training efficiency by updating weights in small batches rather than processing the entire dataset at once. This helps in achieving a balance between computational efficiency and convergence stability."
      ],
      "metadata": {
        "id": "QlgSETqqloU9"
      }
    },
    {
      "cell_type": "markdown",
      "source": [
        "**Part 2: 2 Layer Neural Network**"
      ],
      "metadata": {
        "id": "78bhqt8xs3iz"
      }
    },
    {
      "cell_type": "markdown",
      "source": [
        "**Task 1**\n",
        "In order to implement a 2-layer neural network I will use PyTorch, particularly focusing on foarward and backward propagation.\n",
        "- In this [article](https://pytorch.org/tutorials/recipes/recipes/defining_a_neural_network.html?utm_source=chatgpt.com), it introduces the torch.nn module. This was important for understanding how to structure the neural network and define forward pass.\n",
        "- In this [article](https://pytorch.org/tutorials/beginner/basics/buildmodel_tutorial.html?utm_source=chatgpt.com), it provided a guide to building neural netwroks using torch.nn\n",
        "- In this [article](https://muneebsa.medium.com/understanding-the-forward-and-backward-pass-in-pytorch-a-step-by-step-walkthrough-02eb18b6e1af), it talks about the mechanics of forawrd and backward passes ing Pytorch. This was helpful dor understanding the practical implementation of backpropagation in PyTorch\n",
        "- In this [article](https://pytorch.org/tutorials/beginner/pytorch_with_examples.html?utm_source=chatgpt.com), it introduces the fundemental concepts of PyTorch with multiple examples."
      ],
      "metadata": {
        "id": "WxuZdNk8tCcc"
      }
    },
    {
      "cell_type": "markdown",
      "source": [
        "**Task 2**"
      ],
      "metadata": {
        "id": "V2i1XVb434_-"
      }
    },
    {
      "cell_type": "code",
      "source": [
        "import numpy as np\n",
        "import pandas as pd\n",
        "import torch\n",
        "import torch.nn as nn\n",
        "import torch.optim as optim\n",
        "import matplotlib.pyplot as plt\n",
        "import seaborn as sns\n",
        "from sklearn.model_selection import train_test_split\n",
        "from sklearn.preprocessing import StandardScaler\n",
        "\n",
        "# Load dataset\n",
        "df = pd.read_csv(\"companies.csv\")\n",
        "\n",
        "# 1. Exploratory Data Analysis (EDA)\n",
        "print(df.head())\n",
        "print(df.info())\n",
        "print(df.describe())\n",
        "\n",
        "# Visualizing ratings distribution\n",
        "sns.histplot(df['Ratings'], bins=20, kde=True)\n",
        "plt.title(\"Distribution of Ratings\")\n",
        "plt.show()\n",
        "\n",
        "# Missing code shown in Task Part 1\n",
        "\n",
        "# 2. Perform train-dev-test split\n",
        "X_train, X_temp, y_train, y_temp = train_test_split(X, y, test_size=0.3, random_state=42)\n",
        "X_dev, X_test, y_dev, y_test = train_test_split(X_temp, y_temp, test_size=0.5, random_state=42)\n",
        "\n",
        "# Convert to PyTorch tensors\n",
        "X_train_tensor = torch.tensor(X_train, dtype=torch.float32)\n",
        "X_dev_tensor = torch.tensor(X_dev, dtype=torch.float32)\n",
        "X_test_tensor = torch.tensor(X_test, dtype=torch.float32)\n",
        "y_train_tensor = torch.tensor(y_train, dtype=torch.float32).unsqueeze(1)\n",
        "y_dev_tensor = torch.tensor(y_dev, dtype=torch.float32).unsqueeze(1)\n",
        "y_test_tensor = torch.tensor(y_test, dtype=torch.float32).unsqueeze(1)\n",
        "\n",
        "# Define the neural network\n",
        "class NeuralNetwork(nn.Module):\n",
        "    def __init__(self, input_size, hidden_size, output_size):\n",
        "        super(NeuralNetwork, self).__init__()\n",
        "        self.fc1 = nn.Linear(input_size, hidden_size)\n",
        "        self.relu = nn.ReLU()  # Activation function\n",
        "        self.fc2 = nn.Linear(hidden_size, output_size)\n",
        "        self.sigmoid = nn.Sigmoid()  # Output activation for binary classification\n",
        "\n",
        "    # 3. Implement forward propagation\n",
        "    def forward(self, x):\n",
        "        x = self.fc1(x)\n",
        "        x = self.relu(x)\n",
        "        x = self.fc2(x)\n",
        "        x = self.sigmoid(x)\n",
        "        return x\n",
        "\n",
        "# Hyperparameters\n",
        "input_size = X_train.shape[1]\n",
        "hidden_size = 10  # Number of neurons in the hidden layer\n",
        "output_size = 1  # Binary classification\n",
        "learning_rate = 0.01\n",
        "\n",
        "device = torch.device(\"cuda\" if torch.cuda.is_available() else \"cpu\")\n",
        "\n",
        "model = NeuralNetwork(input_size, hidden_size, output_size).to(device)\n",
        "# Binary cross-entropy loss\n",
        "# 4. Used to compute final cost function for binary classification\n",
        "# by measuring the difference between predicted probabilities and actual labels.\n",
        "# This cost function is used to optimize the neural network through backpropagation and weight updates\n",
        "criterion = nn.BCELoss()\n",
        "# 5. Adam optimizer is used here for gradient descent\n",
        "optimizer = optim.Adam(model.parameters(), lr=learning_rate)\n",
        "\n",
        "# Training loop\n",
        "epochs = 1000\n",
        "train_losses = []\n",
        "dev_losses = []\n",
        "for epoch in range(epochs):\n",
        "    model.train()\n",
        "    optimizer.zero_grad()\n",
        "    outputs = model(X_train_tensor.to(device))\n",
        "    loss = criterion(outputs, y_train_tensor.to(device))\n",
        "    loss.backward()\n",
        "    optimizer.step()\n",
        "    train_losses.append(loss.item())\n",
        "\n",
        "    # Evaluate on development set\n",
        "    model.eval()\n",
        "    with torch.no_grad():\n",
        "        dev_outputs = model(X_dev_tensor.to(device))\n",
        "        dev_loss = criterion(dev_outputs, y_dev_tensor.to(device))\n",
        "        dev_losses.append(dev_loss.item())\n",
        "\n",
        "    if epoch % 100 == 0:\n",
        "        print(f\"Epoch {epoch}, Train Loss: {loss.item():.4f}, Dev Loss: {dev_loss.item():.4f}\")\n",
        "\n",
        "# Plot loss curves\n",
        "plt.plot(train_losses, label='Train Loss')\n",
        "plt.plot(dev_losses, label='Dev Loss')\n",
        "\n",
        "# Evaluate model on test set\n",
        "model.eval()\n",
        "with torch.no_grad():\n",
        "    # 6. Present results using test set\n",
        "    y_pred = model(X_test_tensor.to(device))\n",
        "    y_pred_labels = (y_pred.cpu().numpy() > 0.5).astype(int)\n",
        "    accuracy = np.mean(y_pred_labels.flatten() == y_test)\n",
        "    print(f\"Test Accuracy: {accuracy * 100:.2f}%\")\n"
      ],
      "metadata": {
        "colab": {
          "base_uri": "https://localhost:8080/",
          "height": 1000
        },
        "id": "XRFjXrGp4FnJ",
        "outputId": "8a2baaba-52c2-4d87-bbd7-021ade906b84"
      },
      "execution_count": null,
      "outputs": [
        {
          "output_type": "stream",
          "name": "stdout",
          "text": [
            "  Company_name                                        Description  Ratings  \\\n",
            "0          TCS  IT Services & Consulting | 1 Lakh+ Employees |...      3.8   \n",
            "1    Accenture  IT Services & Consulting | 1 Lakh+ Employees |...      4.0   \n",
            "2    Cognizant  IT Services & Consulting | 1 Lakh+ Employees |...      3.9   \n",
            "3        Wipro  IT Services & Consulting | 1 Lakh+ Employees |...      3.8   \n",
            "4    Capgemini  IT Services & Consulting | 1 Lakh+ Employees |...      3.9   \n",
            "\n",
            "                                    Highly_rated_for  \\\n",
            "0                    Job Security, Work Life Balance   \n",
            "1  Company Culture, Skill Development / Learning,...   \n",
            "2                       Skill Development / Learning   \n",
            "3                                       Job Security   \n",
            "4  Job Security, Work Life Balance, Skill Develop...   \n",
            "\n",
            "                        Critically_rated_for Total_reviews Avg_salary  \\\n",
            "0  Promotions / Appraisal, Salary & Benefits         73.1k     856.9k   \n",
            "1                                        NaN         46.4k     584.6k   \n",
            "2                     Promotions / Appraisal         41.7k     561.5k   \n",
            "3  Promotions / Appraisal, Salary & Benefits         39.2k     427.4k   \n",
            "4  Promotions / Appraisal, Salary & Benefits           34k     414.4k   \n",
            "\n",
            "  Interviews_taken Total_jobs_available Total_benefits  \n",
            "0             6.1k                  847          11.5k  \n",
            "1             4.3k                 9.9k           7.1k  \n",
            "2             3.6k                  460           5.8k  \n",
            "3             3.7k                  405             5k  \n",
            "4             2.8k                  719             4k  \n",
            "<class 'pandas.core.frame.DataFrame'>\n",
            "RangeIndex: 10000 entries, 0 to 9999\n",
            "Data columns (total 10 columns):\n",
            " #   Column                Non-Null Count  Dtype  \n",
            "---  ------                --------------  -----  \n",
            " 0   Company_name          10000 non-null  object \n",
            " 1   Description           10000 non-null  object \n",
            " 2   Ratings               10000 non-null  float64\n",
            " 3   Highly_rated_for      9908 non-null   object \n",
            " 4   Critically_rated_for  2807 non-null   object \n",
            " 5   Total_reviews         10000 non-null  object \n",
            " 6   Avg_salary            10000 non-null  object \n",
            " 7   Interviews_taken      10000 non-null  object \n",
            " 8   Total_jobs_available  10000 non-null  object \n",
            " 9   Total_benefits        10000 non-null  object \n",
            "dtypes: float64(1), object(9)\n",
            "memory usage: 781.4+ KB\n",
            "None\n",
            "            Ratings\n",
            "count  10000.000000\n",
            "mean       3.894710\n",
            "std        0.385894\n",
            "min        1.300000\n",
            "25%        3.700000\n",
            "50%        3.900000\n",
            "75%        4.100000\n",
            "max        5.000000\n"
          ]
        },
        {
          "output_type": "display_data",
          "data": {
            "text/plain": [
              "<Figure size 640x480 with 1 Axes>"
            ],
            "image/png": "[encoded data removed]"
          },
          "metadata": {}
        },
        {
          "output_type": "stream",
          "name": "stdout",
          "text": [
            "Epoch 0, Train Loss: 0.6830, Dev Loss: 0.6661\n",
            "Epoch 100, Train Loss: 0.0624, Dev Loss: 0.0660\n",
            "Epoch 200, Train Loss: 0.0135, Dev Loss: 0.0145\n",
            "Epoch 300, Train Loss: 0.0054, Dev Loss: 0.0059\n",
            "Epoch 400, Train Loss: 0.0029, Dev Loss: 0.0032\n",
            "Epoch 500, Train Loss: 0.0018, Dev Loss: 0.0020\n",
            "Epoch 600, Train Loss: 0.0012, Dev Loss: 0.0014\n",
            "Epoch 700, Train Loss: 0.0009, Dev Loss: 0.0010\n",
            "Epoch 800, Train Loss: 0.0007, Dev Loss: 0.0008\n",
            "Epoch 900, Train Loss: 0.0005, Dev Loss: 0.0006\n"
          ]
        },
        {
          "output_type": "display_data",
          "data": {
            "text/plain": [
              "<Figure size 640x480 with 1 Axes>"
            ],
            "image/png": "[encoded data removed]"
          },
          "metadata": {}
        },
        {
          "output_type": "stream",
          "name": "stdout",
          "text": [
            "Test Accuracy: 100.00%\n"
          ]
        }
      ]
    },
    {
      "cell_type": "markdown",
      "source": [
        "5. Experiment with normalized inputs i.e. comment on how your model performs when the inputs are normalized.\n",
        "\n",
        "  Normalized inputs significantly imptove training efficiency and final performance. Without normalization the model would require more epochs to reach stable accuracy."
      ],
      "metadata": {
        "id": "uWq6PP-MqgWp"
      }
    },
    {
      "cell_type": "markdown",
      "source": [
        "**Task 3**\n",
        "\n",
        "Hyperparameter Selection:\n",
        "- Hidden Layer Size: 10\n",
        "  - This size was chosen to balance between model complexity and efficiency\n",
        "  - Few neurons could lead to underfitting while too many can cause overfitting\n",
        "  - 10 gives the most stable results\n",
        "\n",
        "- Learning Rate: 0.01\n",
        "  - This value was based on typical values for deep learning models\n",
        "  - Lower learning rates resulted in slow convergence, while higher rates caused instability\n",
        "\n",
        "- Epochs: 1000\n",
        "  - Training 500 epochs showed improvement but never leveled out\n",
        "  - Beyond 1000 epochs, overfitting signs appeared in the development set\n",
        "\n",
        "  Regularization was not explicitly used, overfitting was monitored by the development loss. If overfitting was observed techniques like weight decay would have been introduced.\n",
        "\n",
        "  The Adam Optimizer was used due to its efficiency in handling sparse gradients and adapting the learning rate dynamically. Adam provided faster conergence and stability compared to other optimizing techniques like SGD. It combines the benfits of Momentum and RMSprop."
      ],
      "metadata": {
        "id": "82tteHlfQSIj"
      }
    }
  ]
}